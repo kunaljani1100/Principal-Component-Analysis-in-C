{
  "nbformat": 4,
  "nbformat_minor": 0,
  "metadata": {
    "colab": {
      "name": "PCA Code Visualization",
      "version": "0.3.2",
      "provenance": [],
      "collapsed_sections": []
    },
    "kernelspec": {
      "name": "python3",
      "display_name": "Python 3"
    }
  },
  "cells": [
    {
      "cell_type": "code",
      "metadata": {
        "id": "VSh1l-jYw7DJ",
        "colab_type": "code",
        "outputId": "8011b3c8-4707-4e58-9e51-968afb0907f7",
        "colab": {
          "base_uri": "https://localhost:8080/",
          "height": 329
        }
      },
      "source": [
        "import numpy as np\n",
        "import pandas as pd\n",
        "import matplotlib.pyplot as plt\n",
        "import statistics as st\n",
        "\n",
        "dataset=pd.read_csv('principal_components2.csv')\n",
        "\n",
        "#print(dataset)\n",
        "\n",
        "n=100\n",
        "\n",
        "v=[]\n",
        "for i in range(n):\n",
        "  v.append(st.variance(dataset.iloc[:,i].values))\n",
        "v.sort(reverse=True)\n",
        "#print(v)\n",
        "\n",
        "total=sum(v)\n",
        "#print(total)\n",
        "\n",
        "for i in range(n):\n",
        "  v[i]=(v[i]/total)*100\n",
        "\n",
        "total_var=0;\n",
        "for i in range(n):\n",
        "  if(total_var>90):\n",
        "    break\n",
        "  total_var=total_var+v[i]\n",
        "print(i)\n",
        "  \n",
        "x = np.arange(1,n+1)\n",
        "#print(x)\n",
        "#print(v)\n",
        "plt.bar(x,v)\n",
        "plt.xlabel('PC')\n",
        "plt.ylabel('Variance(%)')\n",
        "plt.title('Explained variance Ratio for all the Principal Components')\n",
        "#plt.xticks(x);"
      ],
      "execution_count": 0,
      "outputs": [
        {
          "output_type": "stream",
          "text": [
            "64\n"
          ],
          "name": "stdout"
        },
        {
          "output_type": "execute_result",
          "data": {
            "text/plain": [
              "Text(0.5, 1.0, 'Explained variance Ratio for all the Principal Components')"
            ]
          },
          "metadata": {
            "tags": []
          },
          "execution_count": 7
        },
        {
          "output_type": "display_data",
          "data": {
            "image/png": "[encoded data removed]",
            "text/plain": [
              "<Figure size 432x288 with 1 Axes>"
            ]
          },
          "metadata": {
            "tags": []
          }
        }
      ]
    }
  ]
}